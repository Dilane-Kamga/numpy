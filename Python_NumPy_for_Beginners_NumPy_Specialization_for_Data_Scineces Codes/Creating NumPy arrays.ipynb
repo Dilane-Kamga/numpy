{
 "cells": [
  {
   "cell_type": "markdown",
   "id": "b58f3e2a",
   "metadata": {},
   "source": [
    "## Using Array Method"
   ]
  },
  {
   "cell_type": "code",
   "execution_count": 1,
   "id": "2cf0c446",
   "metadata": {},
   "outputs": [
    {
     "data": {
      "text/plain": [
       "numpy.ndarray"
      ]
     },
     "execution_count": 1,
     "metadata": {},
     "output_type": "execute_result"
    }
   ],
   "source": [
    "# Create NumPy array using array() method\n",
    "import numpy as np\n",
    "nums_list = [10, 12, 14, 16, 20]\n",
    "nums_array = np.array(nums_list)\n",
    "type(nums_array)"
   ]
  },
  {
   "cell_type": "code",
   "execution_count": 2,
   "id": "2b8cb412",
   "metadata": {},
   "outputs": [
    {
     "data": {
      "text/plain": [
       "(3, 3)"
      ]
     },
     "execution_count": 2,
     "metadata": {},
     "output_type": "execute_result"
    }
   ],
   "source": [
    "# Create two dimensional array using array() method\n",
    "import numpy as np\n",
    "row1 = [10, 12, 13]\n",
    "row2 = [16, 18, 19]\n",
    "row3 = [20, 22, 23]\n",
    "\n",
    "nums_2d = np.array([row1, row2, row3])\n",
    "nums_2d.shape"
   ]
  },
  {
   "cell_type": "markdown",
   "id": "1a3c7d5b",
   "metadata": {},
   "source": [
    "## Using Arrange Method"
   ]
  },
  {
   "cell_type": "code",
   "execution_count": 4,
   "id": "914dd946",
   "metadata": {},
   "outputs": [
    {
     "name": "stdout",
     "output_type": "stream",
     "text": [
      "[ 5  6  7  8  9 10]\n"
     ]
    }
   ],
   "source": [
    "# Numpy array with integer from 5 to 10\n",
    "nums_array = np.arange(5, 11)\n",
    "print(nums_array)"
   ]
  },
  {
   "cell_type": "code",
   "execution_count": 5,
   "id": "0badc74d",
   "metadata": {},
   "outputs": [
    {
     "name": "stdout",
     "output_type": "stream",
     "text": [
      "[ 5  7  9 11]\n"
     ]
    }
   ],
   "source": [
    "# Numpy array with integer from 5 to 11 with a step of 2\n",
    "nums_arr = np.arange(5, 12, 2)\n",
    "print(nums_arr)"
   ]
  },
  {
   "cell_type": "markdown",
   "id": "ad569697",
   "metadata": {},
   "source": [
    "## Using Ones Method"
   ]
  },
  {
   "cell_type": "code",
   "execution_count": 6,
   "id": "abb86f8d",
   "metadata": {},
   "outputs": [
    {
     "name": "stdout",
     "output_type": "stream",
     "text": [
      "[1. 1. 1. 1. 1. 1.]\n"
     ]
    }
   ],
   "source": [
    "# an array with 6 elements\n",
    "ones_array = np.ones(6)\n",
    "print(ones_array)"
   ]
  },
  {
   "cell_type": "code",
   "execution_count": 8,
   "id": "aedf7f9c",
   "metadata": {},
   "outputs": [
    {
     "name": "stdout",
     "output_type": "stream",
     "text": [
      "[[1. 1. 1. 1.]\n",
      " [1. 1. 1. 1.]\n",
      " [1. 1. 1. 1.]\n",
      " [1. 1. 1. 1.]\n",
      " [1. 1. 1. 1.]\n",
      " [1. 1. 1. 1.]]\n"
     ]
    }
   ],
   "source": [
    "# two dimensional array\n",
    "ones_array = np.ones((6, 4))\n",
    "print(ones_array)"
   ]
  },
  {
   "cell_type": "markdown",
   "id": "c598712a",
   "metadata": {},
   "source": [
    "## Using Zeros Method"
   ]
  },
  {
   "cell_type": "code",
   "execution_count": 9,
   "id": "d82400db",
   "metadata": {},
   "outputs": [
    {
     "name": "stdout",
     "output_type": "stream",
     "text": [
      "[0. 0. 0. 0. 0. 0.]\n"
     ]
    }
   ],
   "source": [
    "# an array with 6 elements\n",
    "zeros_array = np.zeros(6)\n",
    "print(zeros_array)"
   ]
  },
  {
   "cell_type": "code",
   "execution_count": 10,
   "id": "6105a8a1",
   "metadata": {},
   "outputs": [
    {
     "name": "stdout",
     "output_type": "stream",
     "text": [
      "[[0. 0. 0. 0.]\n",
      " [0. 0. 0. 0.]\n",
      " [0. 0. 0. 0.]\n",
      " [0. 0. 0. 0.]\n",
      " [0. 0. 0. 0.]\n",
      " [0. 0. 0. 0.]]\n"
     ]
    }
   ],
   "source": [
    "# two dimensional array\n",
    "zeros_array = np.zeros((6, 4))\n",
    "print(zeros_array)"
   ]
  },
  {
   "cell_type": "markdown",
   "id": "e298e719",
   "metadata": {},
   "source": [
    "## Using Eyes Method"
   ]
  },
  {
   "cell_type": "code",
   "execution_count": 11,
   "id": "77841ddc",
   "metadata": {},
   "outputs": [
    {
     "name": "stdout",
     "output_type": "stream",
     "text": [
      "[[1. 0. 0. 0. 0. 0.]\n",
      " [0. 1. 0. 0. 0. 0.]\n",
      " [0. 0. 1. 0. 0. 0.]\n",
      " [0. 0. 0. 1. 0. 0.]\n",
      " [0. 0. 0. 0. 1. 0.]\n",
      " [0. 0. 0. 0. 0. 1.]]\n"
     ]
    }
   ],
   "source": [
    "# An identity matrix 6x6\n",
    "eyes_array = np.eye(6)\n",
    "print(eyes_array)"
   ]
  },
  {
   "cell_type": "markdown",
   "id": "e227ac7a",
   "metadata": {},
   "source": [
    "## Using Random Method"
   ]
  },
  {
   "cell_type": "code",
   "execution_count": 12,
   "id": "98f6e310",
   "metadata": {},
   "outputs": [
    {
     "name": "stdout",
     "output_type": "stream",
     "text": [
      "[[0.37178564 0.17609512 0.87697559 0.3947109  0.53544817]\n",
      " [0.93979334 0.68135833 0.17540416 0.7660231  0.08170844]\n",
      " [0.04489585 0.64708838 0.90536983 0.03973357 0.06650944]\n",
      " [0.44680103 0.58156468 0.38743487 0.45009977 0.17742578]]\n"
     ]
    }
   ],
   "source": [
    "# an array with uniform distribution\n",
    "uniform_random = np.random.rand(4, 5)\n",
    "print(uniform_random)"
   ]
  },
  {
   "cell_type": "code",
   "execution_count": 13,
   "id": "b858db71",
   "metadata": {},
   "outputs": [
    {
     "name": "stdout",
     "output_type": "stream",
     "text": [
      "[[-1.99318715 -1.42056945  0.46049763 -1.14080133 -1.68080646]\n",
      " [-1.84127212 -0.8356298   1.60744156  1.36142493  0.60169453]\n",
      " [ 0.92329296  1.83206741  0.20411379 -1.06598569 -0.17365385]\n",
      " [-0.2836639  -1.30351581 -1.42016818  1.0530585   0.34861084]]\n"
     ]
    }
   ],
   "source": [
    "# an array with normal distribution\n",
    "normal_random = np.random.randn(4, 5)\n",
    "print(normal_random)"
   ]
  },
  {
   "cell_type": "code",
   "execution_count": 15,
   "id": "6e874b35",
   "metadata": {},
   "outputs": [
    {
     "name": "stdout",
     "output_type": "stream",
     "text": [
      "[36 45 11 14 22]\n"
     ]
    }
   ],
   "source": [
    "# an array with five random integers between 10 and 50\n",
    "integer_random = np.random.randint(10, 50, 5)\n",
    "print(integer_random)"
   ]
  },
  {
   "cell_type": "markdown",
   "id": "b8f64566",
   "metadata": {},
   "source": [
    "## Printing NumPy Array"
   ]
  },
  {
   "cell_type": "code",
   "execution_count": 16,
   "id": "fb83e562",
   "metadata": {},
   "outputs": [
    {
     "name": "stdout",
     "output_type": "stream",
     "text": [
      "[10 12 14 16 20]\n"
     ]
    }
   ],
   "source": [
    "# using print\n",
    "import numpy as np\n",
    "my_array = np.array([10, 12, 14, 16, 20])\n",
    "print(my_array)"
   ]
  },
  {
   "cell_type": "code",
   "execution_count": 17,
   "id": "c808134c",
   "metadata": {},
   "outputs": [
    {
     "name": "stdout",
     "output_type": "stream",
     "text": [
      "1\n",
      "(5,)\n"
     ]
    }
   ],
   "source": [
    "# print the dimension and the shape of an array\n",
    "print(my_array.ndim)\n",
    "print(my_array.shape)"
   ]
  },
  {
   "cell_type": "code",
   "execution_count": 18,
   "id": "f710302f",
   "metadata": {},
   "outputs": [
    {
     "name": "stdout",
     "output_type": "stream",
     "text": [
      "10\n",
      "12\n",
      "14\n",
      "16\n",
      "20\n"
     ]
    }
   ],
   "source": [
    "# using a single foreach\n",
    "for i in my_array:\n",
    "    print(i)"
   ]
  },
  {
   "cell_type": "code",
   "execution_count": 21,
   "id": "ba2204f8",
   "metadata": {},
   "outputs": [
    {
     "name": "stdout",
     "output_type": "stream",
     "text": [
      "4\n",
      "7\n",
      "8\n",
      "5\n",
      "9\n",
      "5\n",
      "7\n",
      "3\n",
      "5\n",
      "6\n",
      "4\n",
      "7\n",
      "1\n",
      "1\n",
      "7\n",
      "10\n",
      "10\n",
      "6\n",
      "6\n",
      "10\n"
     ]
    }
   ],
   "source": [
    "# using foreach to print items of a 2 dimensional array\n",
    "integer_random = np.random.randint(1, 11, size=(4, 5))\n",
    "\n",
    "for row in integer_random:\n",
    "    for item in row:\n",
    "        print(item)"
   ]
  },
  {
   "cell_type": "markdown",
   "id": "891831f0",
   "metadata": {},
   "source": [
    "## Adding Items in a NumPy Array\n"
   ]
  },
  {
   "cell_type": "code",
   "execution_count": 22,
   "id": "ec40564b",
   "metadata": {},
   "outputs": [
    {
     "name": "stdout",
     "output_type": "stream",
     "text": [
      "['Red' 'Green' 'Blue']\n",
      "['Red' 'Green' 'Blue' 'Yellow']\n"
     ]
    }
   ],
   "source": [
    "# Add item \"Yellow\" into an existing array\n",
    "import numpy as np\n",
    "my_array = np.array([\"Red\", \"Green\", \"Blue\"])\n",
    "print(my_array)\n",
    "extended = np.append(my_array, \"Yellow\")\n",
    "print(extended)"
   ]
  },
  {
   "cell_type": "code",
   "execution_count": 23,
   "id": "f7f55975",
   "metadata": {},
   "outputs": [
    {
     "name": "stdout",
     "output_type": "stream",
     "text": [
      "['Red' 'Green' 'Blue']\n",
      "['Red' 'Green' 'Blue' 'Yellow' 'Pink']\n"
     ]
    }
   ],
   "source": [
    "# Add an array of item into in existing array\n",
    "import numpy as np\n",
    "my_array = np.array([\"Red\", \"Green\", \"Blue\"])\n",
    "print(my_array)\n",
    "extended = np.append(my_array, [\"Yellow\", \"Pink\"])\n",
    "print(extended)"
   ]
  },
  {
   "cell_type": "code",
   "execution_count": 24,
   "id": "0c21ce75",
   "metadata": {},
   "outputs": [
    {
     "name": "stdout",
     "output_type": "stream",
     "text": [
      "[[0. 0. 0.]\n",
      " [0. 0. 0.]\n",
      " [0. 0. 0.]]\n"
     ]
    }
   ],
   "source": [
    "# Create an 3x3 array of all zeros\n",
    "zeros_array = np.zeros((3, 3))\n",
    "print(zeros_array)"
   ]
  },
  {
   "cell_type": "code",
   "execution_count": 25,
   "id": "b3758796",
   "metadata": {},
   "outputs": [
    {
     "name": "stdout",
     "output_type": "stream",
     "text": [
      "[[0. 0. 0.]\n",
      " [0. 0. 0.]\n",
      " [0. 0. 0.]\n",
      " [1. 2. 3.]]\n"
     ]
    }
   ],
   "source": [
    "# add a new array in a form of row\n",
    "extended = np.append(zeros_array, [[1, 2, 3]], axis=0)\n",
    "print(extended)"
   ]
  },
  {
   "cell_type": "code",
   "execution_count": 26,
   "id": "cb64313e",
   "metadata": {},
   "outputs": [
    {
     "name": "stdout",
     "output_type": "stream",
     "text": [
      "[[0. 0. 0. 1.]\n",
      " [0. 0. 0. 2.]\n",
      " [0. 0. 0. 3.]]\n"
     ]
    }
   ],
   "source": [
    "# add a new array as a column\n",
    "extended = np.append(zeros_array, [[1], [2], [3]], axis=1)\n",
    "print(extended)"
   ]
  },
  {
   "cell_type": "markdown",
   "id": "540f9f5d",
   "metadata": {},
   "source": [
    "## Removing Items from a NumPy Array"
   ]
  },
  {
   "cell_type": "code",
   "execution_count": 27,
   "id": "dc28a8ff",
   "metadata": {},
   "outputs": [
    {
     "name": "stdout",
     "output_type": "stream",
     "text": [
      "['Red' 'Green' 'Blue']\n",
      "After deletion\n",
      "['Red' 'Blue']\n"
     ]
    }
   ],
   "source": [
    "# delete an item at index 1\n",
    "import numpy as np\n",
    "\n",
    "my_array = np.array([\"Red\", \"Green\", \"Blue\"])\n",
    "print(my_array)\n",
    "\n",
    "print(\"After deletion\")\n",
    "update_array = np.delete(my_array, 1)\n",
    "print(update_array)"
   ]
  },
  {
   "cell_type": "code",
   "execution_count": 28,
   "id": "b77fb9d9",
   "metadata": {},
   "outputs": [
    {
     "name": "stdout",
     "output_type": "stream",
     "text": [
      "['Red' 'Green' 'Blue']\n",
      "After deletion\n",
      "['Red']\n"
     ]
    }
   ],
   "source": [
    "# delete the items at index 1 and 2\n",
    "import numpy as np\n",
    "\n",
    "my_array = np.array([\"Red\", \"Green\", \"Blue\"])\n",
    "print(my_array)\n",
    "\n",
    "print(\"After deletion\")\n",
    "update_array = np.delete(my_array, [1, 2])\n",
    "print(update_array)"
   ]
  },
  {
   "cell_type": "code",
   "execution_count": 29,
   "id": "8b8971bd",
   "metadata": {},
   "outputs": [
    {
     "name": "stdout",
     "output_type": "stream",
     "text": [
      "[[ 5  3  8  8  6]\n",
      " [ 3  8 10  4  5]\n",
      " [ 3  8  2 10  5]\n",
      " [ 4 10  7  6  9]]\n",
      "After deletion\n",
      "[[ 5  3  8  8  6]\n",
      " [ 3  8  2 10  5]\n",
      " [ 4 10  7  6  9]]\n"
     ]
    }
   ],
   "source": [
    "# delete the row at index 1 into 2D array\n",
    "integer_random = np.random.randint( 1 , 11 , size=( 4 , 5 ))\n",
    "print (integer_random)\n",
    "\n",
    "print (\"After deletion\")\n",
    "updated_array = np.delete(integer_random, 1 , axis = 0 )\n",
    "print (updated_array)"
   ]
  },
  {
   "cell_type": "code",
   "execution_count": 30,
   "id": "ee9a82cc",
   "metadata": {},
   "outputs": [
    {
     "name": "stdout",
     "output_type": "stream",
     "text": [
      "[[ 3  1  9  8  9]\n",
      " [ 6  7 10  2  1]\n",
      " [ 2  2  1  4  7]\n",
      " [ 1  6  2  7  1]]\n",
      "After deletion\n",
      "[[ 3  9  8  9]\n",
      " [ 6 10  2  1]\n",
      " [ 2  1  4  7]\n",
      " [ 1  2  7  1]]\n"
     ]
    }
   ],
   "source": [
    "# delete a coulumn\n",
    "# delete the row at index 1 into 2D array\n",
    "integer_random = np.random.randint( 1 , 11 , size=( 4 , 5 ))\n",
    "print (integer_random)\n",
    "\n",
    "print (\"After deletion\")\n",
    "updated_array = np.delete(integer_random, 1 , axis = 1 )\n",
    "print (updated_array)"
   ]
  },
  {
   "cell_type": "code",
   "execution_count": null,
   "id": "4740225f",
   "metadata": {},
   "outputs": [],
   "source": []
  }
 ],
 "metadata": {
  "kernelspec": {
   "display_name": "Python 3",
   "language": "python",
   "name": "python3"
  },
  "language_info": {
   "codemirror_mode": {
    "name": "ipython",
    "version": 3
   },
   "file_extension": ".py",
   "mimetype": "text/x-python",
   "name": "python",
   "nbconvert_exporter": "python",
   "pygments_lexer": "ipython3",
   "version": "3.8.8"
  }
 },
 "nbformat": 4,
 "nbformat_minor": 5
}
