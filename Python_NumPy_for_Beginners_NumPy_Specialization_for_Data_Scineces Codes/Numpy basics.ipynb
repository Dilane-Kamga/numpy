{
 "cells": [
  {
   "cell_type": "code",
   "execution_count": 1,
   "id": "5f428171",
   "metadata": {},
   "outputs": [
    {
     "name": "stdout",
     "output_type": "stream",
     "text": [
      "[10 12 14 16 20 25]\n",
      "int32\n",
      "4\n"
     ]
    }
   ],
   "source": [
    "# an array and its type\n",
    "import numpy as np\n",
    "my_array = np.array([10, 12, 14, 16, 20, 25])\n",
    "\n",
    "print(my_array)\n",
    "print(my_array.dtype)\n",
    "print(my_array.dtype.itemsize)"
   ]
  },
  {
   "cell_type": "code",
   "execution_count": 3,
   "id": "e70c3adc",
   "metadata": {},
   "outputs": [
    {
     "name": "stdout",
     "output_type": "stream",
     "text": [
      "['Red' 'Green' 'Orange']\n",
      "<U6\n",
      "24\n"
     ]
    }
   ],
   "source": [
    "# an array of string\n",
    "import numpy as np\n",
    "my_array = np.array([\"Red\", \"Green\", \"Orange\"])\n",
    "\n",
    "print(my_array)\n",
    "print(my_array.dtype)\n",
    "print(my_array.dtype.itemsize)"
   ]
  },
  {
   "cell_type": "code",
   "execution_count": 4,
   "id": "0b7534da",
   "metadata": {},
   "outputs": [
    {
     "name": "stdout",
     "output_type": "stream",
     "text": [
      "['2022-04-20' '2022-01-19' '2021-04-15']\n",
      "<U10\n",
      "40\n"
     ]
    }
   ],
   "source": [
    "# an array of string of dates\n",
    "import numpy as np\n",
    "my_array = np.array([\"2022-04-20\", \"2022-01-19\", \"2021-04-15\"])\n",
    "print(my_array)\n",
    "print(my_array.dtype)\n",
    "print(my_array.dtype.itemsize)\n"
   ]
  },
  {
   "cell_type": "code",
   "execution_count": 5,
   "id": "c15fc928",
   "metadata": {},
   "outputs": [
    {
     "name": "stdout",
     "output_type": "stream",
     "text": [
      "['2022-04-20' '2022-01-19' '2021-04-15']\n",
      "datetime64[D]\n"
     ]
    }
   ],
   "source": [
    "# convert a string of dates to datetime\n",
    "my_array3 = my_array.astype(\"M\")\n",
    "print(my_array3)\n",
    "print(my_array3.dtype)"
   ]
  },
  {
   "cell_type": "code",
   "execution_count": 6,
   "id": "e0ec8372",
   "metadata": {},
   "outputs": [
    {
     "name": "stdout",
     "output_type": "stream",
     "text": [
      "['2022-04-20' '2022-01-19' '2021-04-15']\n",
      "datetime64[D]\n",
      "8\n"
     ]
    }
   ],
   "source": [
    "# another method to create an array of datetime\n",
    "import numpy as np\n",
    "my_array = np.array([\"2022-04-20\", \"2022-01-19\", \"2021-04-15\"], dtype=\"M\")\n",
    "\n",
    "print(my_array)\n",
    "print(my_array.dtype)\n",
    "print(my_array.dtype.itemsize)"
   ]
  },
  {
   "cell_type": "code",
   "execution_count": null,
   "id": "417d2a1a",
   "metadata": {},
   "outputs": [],
   "source": []
  }
 ],
 "metadata": {
  "kernelspec": {
   "display_name": "Python 3",
   "language": "python",
   "name": "python3"
  },
  "language_info": {
   "codemirror_mode": {
    "name": "ipython",
    "version": 3
   },
   "file_extension": ".py",
   "mimetype": "text/x-python",
   "name": "python",
   "nbconvert_exporter": "python",
   "pygments_lexer": "ipython3",
   "version": "3.8.8"
  }
 },
 "nbformat": 4,
 "nbformat_minor": 5
}
