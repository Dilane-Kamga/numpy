{
 "cells": [
  {
   "cell_type": "markdown",
   "id": "6dd97731",
   "metadata": {},
   "source": [
    "## Sorting Numpy Arrays"
   ]
  },
  {
   "cell_type": "markdown",
   "id": "09b64677",
   "metadata": {},
   "source": [
    "### Sorting Numeric Arrays"
   ]
  },
  {
   "cell_type": "code",
   "execution_count": 1,
   "id": "abf3a39a",
   "metadata": {},
   "outputs": [
    {
     "name": "stdout",
     "output_type": "stream",
     "text": [
      "unsorted array\n",
      "[ 3  3 19  4 10 11  9  1  6  8]\n",
      "\n",
      " sorted array\n",
      "[ 1  3  3  4  6  8  9 10 11 19]\n"
     ]
    }
   ],
   "source": [
    "import numpy as np\n",
    "\n",
    "print(\"unsorted array\")\n",
    "my_array = np.random.randint(1, 20, 10)\n",
    "print(my_array)\n",
    "\n",
    "print(\"\\n sorted array\")\n",
    "sorted_array = np.sort(my_array)\n",
    "print(sorted_array)"
   ]
  },
  {
   "cell_type": "markdown",
   "id": "88a8b58c",
   "metadata": {},
   "source": [
    "### Sorting Text Arrays"
   ]
  },
  {
   "cell_type": "code",
   "execution_count": 2,
   "id": "696865b4",
   "metadata": {},
   "outputs": [
    {
     "name": "stdout",
     "output_type": "stream",
     "text": [
      "unsorted array\n",
      "['Red' 'Green' 'Blue' 'Yello']\n",
      " \n",
      " sorted array\n",
      "['Blue' 'Green' 'Red' 'Yello']\n"
     ]
    }
   ],
   "source": [
    "import numpy as np\n",
    "\n",
    "print (\"unsorted array\")\n",
    "my_array = np.array([\"Red\", \"Green\", \"Blue\", \"Yello\"])\n",
    "print (my_array)\n",
    "\n",
    "print (\" \\n sorted array\")\n",
    "sorted_array = np.sort(my_array)\n",
    "print (sorted_array)"
   ]
  },
  {
   "cell_type": "markdown",
   "id": "7ed73531",
   "metadata": {},
   "source": [
    "### Sorting Boolean Arrays"
   ]
  },
  {
   "cell_type": "code",
   "execution_count": 3,
   "id": "6dca2480",
   "metadata": {},
   "outputs": [
    {
     "name": "stdout",
     "output_type": "stream",
     "text": [
      "unsorted array\n",
      "[False  True  True False False  True False  True]\n",
      " \n",
      " Sorted array\n",
      "[False False False False  True  True  True  True]\n"
     ]
    }
   ],
   "source": [
    "import numpy as np\n",
    "\n",
    "print (\"unsorted array\")\n",
    "my_array = np.array([False , True , True , False , False , True , False , True ])\n",
    "print (my_array)\n",
    "\n",
    "print (\" \\n Sorted array\")\n",
    "sorted_array = np.sort(my_array)\n",
    "print (sorted_array)"
   ]
  },
  {
   "cell_type": "markdown",
   "id": "989d5090",
   "metadata": {},
   "source": [
    "### Sorting 2-D Arrays"
   ]
  },
  {
   "cell_type": "code",
   "execution_count": 5,
   "id": "b1722988",
   "metadata": {},
   "outputs": [
    {
     "name": "stdout",
     "output_type": "stream",
     "text": [
      "unsorted array\n",
      "[[11 16  2  2  2 10]\n",
      " [ 5 15 13  6  9  2]\n",
      " [15 19 10 14  6  9]\n",
      " [16  2  3  7 12  2]]\n",
      "\n",
      "Sorted array\n",
      "[[ 2  2  2 10 11 16]\n",
      " [ 2  5  6  9 13 15]\n",
      " [ 6  9 10 14 15 19]\n",
      " [ 2  2  3  7 12 16]]\n"
     ]
    }
   ],
   "source": [
    "import numpy as np\n",
    "\n",
    "print (\"unsorted array\")\n",
    "my_array = np.random.randint( 1 , 20 , size = ( 4 , 6 ))\n",
    "print (my_array)\n",
    "\n",
    "print (\"\\nSorted array\")\n",
    "sorted_array = np.sort(my_array)\n",
    "print (sorted_array)"
   ]
  },
  {
   "cell_type": "markdown",
   "id": "42992874",
   "metadata": {},
   "source": [
    "### Sorting in Descending Order"
   ]
  },
  {
   "cell_type": "code",
   "execution_count": 6,
   "id": "d4c77654",
   "metadata": {},
   "outputs": [
    {
     "name": "stdout",
     "output_type": "stream",
     "text": [
      "unsorted array\n",
      "[ 9  5 11 14 18 19  6  6  8 10]\n",
      " \n",
      " sorted array\n",
      "[19 18 14 11 10  9  8  6  6  5]\n"
     ]
    }
   ],
   "source": [
    "import numpy as np\n",
    "\n",
    "print (\"unsorted array\")\n",
    "my_array = np.random.randint( 1 , 20 , 10 )\n",
    "print (my_array)\n",
    "\n",
    "print (\" \\n sorted array\")\n",
    "sorted_array = np.sort(my_array)\n",
    "reverse_sorted = np.flipud(sorted_array)\n",
    "print (reverse_sorted)"
   ]
  },
  {
   "cell_type": "markdown",
   "id": "7439c000",
   "metadata": {},
   "source": [
    "## Reshaping NumPy Arrays"
   ]
  },
  {
   "cell_type": "markdown",
   "id": "8c283542",
   "metadata": {},
   "source": [
    "### Reshaping from Lower to Higher Dimensions"
   ]
  },
  {
   "cell_type": "code",
   "execution_count": 7,
   "id": "b0df6722",
   "metadata": {},
   "outputs": [
    {
     "name": "stdout",
     "output_type": "stream",
     "text": [
      "one-dimensional array\n",
      "[13 19 10  6  1  5 13 17  2 18]\n",
      " \n",
      " two-dimensional array\n",
      "[[13 19 10  6  1]\n",
      " [ 5 13 17  2 18]]\n"
     ]
    }
   ],
   "source": [
    "import numpy as np\n",
    "\n",
    "print (\"one-dimensional array\")\n",
    "one_d_array = np.random.randint( 1 , 20 , 10 )\n",
    "print (one_d_array)\n",
    "\n",
    "print (\" \\n two-dimensional array\")\n",
    "two_d_array = one_d_array.reshape( 2 , 5 )\n",
    "print (two_d_array)"
   ]
  },
  {
   "cell_type": "code",
   "execution_count": 8,
   "id": "9347ef8d",
   "metadata": {},
   "outputs": [
    {
     "name": "stdout",
     "output_type": "stream",
     "text": [
      "one-dimensional array\n",
      "[11  9  6  4 11 18  7 12 18  1]\n",
      " \n",
      " two-dimensional array\n",
      "[[11  9  6  4 11]\n",
      " [18  7 12 18  1]]\n"
     ]
    }
   ],
   "source": [
    "import numpy as np\n",
    "\n",
    "print (\"one-dimensional array\")\n",
    "one_d_array = np.random.randint( 1 , 20 , 10 )\n",
    "print (one_d_array)\n",
    "\n",
    "print (\" \\n two-dimensional array\")\n",
    "two_d_array = np.reshape(one_d_array,( 2 , 5 ))\n",
    "print (two_d_array)"
   ]
  },
  {
   "cell_type": "code",
   "execution_count": 10,
   "id": "3026fe61",
   "metadata": {},
   "outputs": [
    {
     "name": "stdout",
     "output_type": "stream",
     "text": [
      "two-dimensional array\n",
      "[[16 19  8 17 19  1]\n",
      " [15  4  4 16  5  3]\n",
      " [14 11  9 11  6 18]\n",
      " [16 10 15  8 12 15]]\n",
      " \n",
      " three-dimensional array\n",
      "[[[16 19]\n",
      "  [ 8 17]\n",
      "  [19  1]\n",
      "  [15  4]]\n",
      "\n",
      " [[ 4 16]\n",
      "  [ 5  3]\n",
      "  [14 11]\n",
      "  [ 9 11]]\n",
      "\n",
      " [[ 6 18]\n",
      "  [16 10]\n",
      "  [15  8]\n",
      "  [12 15]]]\n"
     ]
    }
   ],
   "source": [
    "import numpy as np\n",
    "\n",
    "print (\"two-dimensional array\")\n",
    "two_d_array = np.random.randint( 1 , 20 , size = ( 4 , 6 ))\n",
    "print (two_d_array)\n",
    "\n",
    "print (\" \\n three-dimensional array\")\n",
    "three_d_array = np.reshape(two_d_array,( 3 , 4 , 2 ))\n",
    "print (three_d_array)"
   ]
  },
  {
   "cell_type": "markdown",
   "id": "61aa2ee4",
   "metadata": {},
   "source": [
    "### Reshaping from Higher to Lower Dimensions"
   ]
  },
  {
   "cell_type": "code",
   "execution_count": 11,
   "id": "65e1255e",
   "metadata": {},
   "outputs": [
    {
     "name": "stdout",
     "output_type": "stream",
     "text": [
      "two-dimensional array\n",
      "[[10 12 17  3  1  2]\n",
      " [ 1  6  8 15 19  1]\n",
      " [12 19 16 18 12  4]\n",
      " [16  7  1 16  2  6]]\n",
      " \n",
      " one-dimensional array\n",
      "[10 12 17  3  1  2  1  6  8 15 19  1 12 19 16 18 12  4 16  7  1 16  2  6]\n"
     ]
    }
   ],
   "source": [
    "import numpy as np\n",
    "\n",
    "print (\"two-dimensional array\")\n",
    "two_d_array = np.random.randint( 1 , 20 , size = ( 4 , 6 ))\n",
    "print (two_d_array)\n",
    "\n",
    "print (\" \\n one-dimensional array\")\n",
    "one_d_array = two_d_array.reshape( 24 )\n",
    "print (one_d_array)"
   ]
  },
  {
   "cell_type": "code",
   "execution_count": 12,
   "id": "418942db",
   "metadata": {},
   "outputs": [
    {
     "name": "stdout",
     "output_type": "stream",
     "text": [
      "two-dimensional array\n",
      "[[14  7 17  3  9 16]\n",
      " [17  1 15  4 17  5]\n",
      " [ 5 12 12 18  2  6]\n",
      " [ 3 17 12 16 10  6]]\n",
      " \n",
      " one-dimensional array\n",
      "[14  7 17  3  9 16 17  1 15  4 17  5  5 12 12 18  2  6  3 17 12 16 10  6]\n"
     ]
    }
   ],
   "source": [
    "import numpy as np\n",
    "\n",
    "print (\"two-dimensional array\")\n",
    "two_d_array = np.random.randint( 1 , 20 , size = ( 4 , 6 ))\n",
    "print (two_d_array)\n",
    "\n",
    "print (\" \\n one-dimensional array\")\n",
    "one_d_array = two_d_array.reshape(- 1 )\n",
    "print (one_d_array)"
   ]
  },
  {
   "cell_type": "code",
   "execution_count": 13,
   "id": "36104a2e",
   "metadata": {},
   "outputs": [
    {
     "name": "stdout",
     "output_type": "stream",
     "text": [
      "two-dimensional array\n",
      "[[[ 4  7 16  1  4 19]\n",
      "  [15 17  5 14 16 16]]\n",
      "\n",
      " [[10 10  6  4 16 10]\n",
      "  [11 12  2 19 10 17]]\n",
      "\n",
      " [[14 10 17  5 10 11]\n",
      "  [ 8 10 18  6 11  7]]\n",
      "\n",
      " [[ 6  4  2  1 17  9]\n",
      "  [18 10  9 10 16  5]]]\n",
      " \n",
      " on-dimensional array\n",
      "[ 4  7 16  1  4 19 15 17  5 14 16 16 10 10  6  4 16 10 11 12  2 19 10 17\n",
      " 14 10 17  5 10 11  8 10 18  6 11  7  6  4  2  1 17  9 18 10  9 10 16  5]\n"
     ]
    }
   ],
   "source": [
    "import numpy as np\n",
    "\n",
    "print (\"two-dimensional array\")\n",
    "three_d_array = np.random.randint( 1 , 20 , size = ( 4 , 2 , 6 ))\n",
    "print (three_d_array)\n",
    "\n",
    "print (\" \\n on-dimensional array\")\n",
    "one_d_array = three_d_array .reshape(- 1 )\n",
    "print (one_d_array)"
   ]
  },
  {
   "cell_type": "markdown",
   "id": "b53957d8",
   "metadata": {},
   "source": [
    "## Indexing and Slicing NumPy Arrays"
   ]
  },
  {
   "cell_type": "code",
   "execution_count": 14,
   "id": "6d2b1fd5",
   "metadata": {},
   "outputs": [
    {
     "name": "stdout",
     "output_type": "stream",
     "text": [
      "[ 1  2  3  4  5  6  7  8  9 10]\n"
     ]
    }
   ],
   "source": [
    "import numpy as np\n",
    "s = np.arange( 1 , 11 )\n",
    "print (s)"
   ]
  },
  {
   "cell_type": "code",
   "execution_count": 15,
   "id": "30ffc092",
   "metadata": {},
   "outputs": [
    {
     "name": "stdout",
     "output_type": "stream",
     "text": [
      "2\n"
     ]
    }
   ],
   "source": [
    "print (s[ 1 ])\n"
   ]
  },
  {
   "cell_type": "code",
   "execution_count": 16,
   "id": "7d83cb4f",
   "metadata": {},
   "outputs": [
    {
     "name": "stdout",
     "output_type": "stream",
     "text": [
      "[2 3 4 5 6 7 8 9]\n"
     ]
    }
   ],
   "source": [
    "print (s[ 1 : 9 ])"
   ]
  },
  {
   "cell_type": "code",
   "execution_count": 17,
   "id": "44b9c4db",
   "metadata": {},
   "outputs": [
    {
     "name": "stdout",
     "output_type": "stream",
     "text": [
      "[1 2 3 4 5]\n",
      "[ 6  7  8  9 10]\n"
     ]
    }
   ],
   "source": [
    "print (s[: 5 ])\n",
    "print (s[ 5 :])"
   ]
  },
  {
   "cell_type": "code",
   "execution_count": 18,
   "id": "cb9902a8",
   "metadata": {},
   "outputs": [
    {
     "name": "stdout",
     "output_type": "stream",
     "text": [
      "[[10 12 13]\n",
      " [45 32 16]]\n"
     ]
    }
   ],
   "source": [
    "row1 = [ 10 , 12 , 13 ]\n",
    "row2 = [ 45 , 32 , 16 ]\n",
    "row3 = [ 45 , 32 , 16 ]\n",
    "nums_2d = np.array([row1, row2, row3])\n",
    "print (nums_2d[: 2 ,:])"
   ]
  },
  {
   "cell_type": "code",
   "execution_count": 19,
   "id": "1b7e7ec4",
   "metadata": {},
   "outputs": [
    {
     "name": "stdout",
     "output_type": "stream",
     "text": [
      "[[10 12]\n",
      " [45 32]\n",
      " [45 32]]\n"
     ]
    }
   ],
   "source": [
    "row1 = [ 10 , 12 , 13 ]\n",
    "row2 = [ 45 , 32 , 16 ]\n",
    "row3 = [ 45 , 32 , 16 ]\n",
    "nums_2d = np.array([row1, row2, row3])\n",
    "print (nums_2d[:,: 2 ])"
   ]
  },
  {
   "cell_type": "code",
   "execution_count": 20,
   "id": "f1710690",
   "metadata": {},
   "outputs": [
    {
     "name": "stdout",
     "output_type": "stream",
     "text": [
      "[[32 16]\n",
      " [32 16]]\n"
     ]
    }
   ],
   "source": [
    "row1 = [ 10 , 12 , 13 ]\n",
    "row2 = [ 45 , 32 , 16 ]\n",
    "row3 = [ 45 , 32 , 16 ]\n",
    "nums_2d = np.array([row1, row2, row3])\n",
    "print (nums_2d[ 1 :, 1 :])"
   ]
  },
  {
   "cell_type": "markdown",
   "id": "67d9ef30",
   "metadata": {},
   "source": [
    "## Broadcasting NumPy Arrays"
   ]
  },
  {
   "cell_type": "code",
   "execution_count": 21,
   "id": "4002250f",
   "metadata": {},
   "outputs": [
    {
     "name": "stdout",
     "output_type": "stream",
     "text": [
      "[24 35 41]\n"
     ]
    }
   ],
   "source": [
    "import numpy as np\n",
    "array1 = np.array ([ 14 , 25 , 31 ])\n",
    "array2 = np.array([ 10 ])\n",
    "result = array1 + array2\n",
    "print (result)"
   ]
  },
  {
   "cell_type": "code",
   "execution_count": 23,
   "id": "f92b3a6a",
   "metadata": {},
   "outputs": [
    {
     "name": "stdout",
     "output_type": "stream",
     "text": [
      "[[12 18 11 15]\n",
      " [12 18  7 12]\n",
      " [ 6  4 16 11]]\n",
      "after broadcasting\n",
      "[[22 28 21 25]\n",
      " [22 28 17 22]\n",
      " [16 14 26 21]]\n"
     ]
    }
   ],
   "source": [
    "array1 = np.random.randint( 1 , 20 , size = ( 3 , 4 ))\n",
    "print (array1)\n",
    "array2 = np.array([ 10 ])\n",
    "print (\"after brodcasting\")\n",
    "result = array1 + array2\n",
    "print (result)"
   ]
  },
  {
   "cell_type": "code",
   "execution_count": 24,
   "id": "ed4950d2",
   "metadata": {},
   "outputs": [
    {
     "name": "stdout",
     "output_type": "stream",
     "text": [
      "[[ 6  6  3 11]\n",
      " [12 14 11  5]\n",
      " [13  8 10  6]]\n",
      "after bradcasting\n",
      "[[11 16 23 36]\n",
      " [17 24 31 30]\n",
      " [18 18 30 31]]\n"
     ]
    }
   ],
   "source": [
    "array1 = np.random.randint( 1 , 20 , size = ( 3 , 4 ))\n",
    "print (array1)\n",
    "array2 = np.array([ 5 , 10 , 20 , 25 ])\n",
    "print (\"after bradcasting\")\n",
    "result = array1 + array2\n",
    "print (result)"
   ]
  },
  {
   "cell_type": "code",
   "execution_count": 25,
   "id": "a1ad78c7",
   "metadata": {},
   "outputs": [
    {
     "name": "stdout",
     "output_type": "stream",
     "text": [
      "[[10 10 14 18]\n",
      " [15  5 14 10]\n",
      " [ 8  9 18 10]]\n",
      "after bradcasting\n",
      "[[15 15 19 23]\n",
      " [25 15 24 20]\n",
      " [28 29 38 30]]\n"
     ]
    }
   ],
   "source": [
    "array1 = np.random.randint( 1 , 20 , size = ( 3 , 4 ))\n",
    "print (array1)\n",
    "array2 = np.array([[ 5 ],[ 10 ],[ 20 ]])\n",
    "print (\"after bradcasting\")\n",
    "result = array1 + array2\n",
    "print (result)"
   ]
  },
  {
   "cell_type": "markdown",
   "id": "24182f65",
   "metadata": {},
   "source": [
    "## Copying NumPy Arrays"
   ]
  },
  {
   "cell_type": "code",
   "execution_count": 26,
   "id": "2af0423d",
   "metadata": {},
   "outputs": [
    {
     "name": "stdout",
     "output_type": "stream",
     "text": [
      "[10 12 14 16 18 20]\n",
      "[10 20 14 16 18 20]\n"
     ]
    }
   ],
   "source": [
    "import numpy as np\n",
    "array1 = np.array([ 10 , 12 , 14 , 16 , 18 , 20 ])\n",
    "array2 = array1.copy()\n",
    "array2[ 1 ] = 20\n",
    "print (array1)\n",
    "print (array2)"
   ]
  },
  {
   "cell_type": "code",
   "execution_count": 27,
   "id": "41f0a8cf",
   "metadata": {},
   "outputs": [
    {
     "name": "stdout",
     "output_type": "stream",
     "text": [
      "[10 20 14 16 18 20]\n",
      "[10 20 14 16 18 20]\n"
     ]
    }
   ],
   "source": [
    "array1 = np.array([ 10 , 12 , 14 , 16 , 18 , 20 ])\n",
    "array2 = array1.view()\n",
    "array2[ 1 ] = 20\n",
    "print (array1)\n",
    "print (array2)"
   ]
  },
  {
   "cell_type": "markdown",
   "id": "bf56aa31",
   "metadata": {},
   "source": [
    "## NumPy I/O Operations"
   ]
  },
  {
   "cell_type": "markdown",
   "id": "295129fd",
   "metadata": {},
   "source": [
    "### Saving a NumPy Array"
   ]
  },
  {
   "cell_type": "code",
   "execution_count": 35,
   "id": "886c82c4",
   "metadata": {},
   "outputs": [],
   "source": [
    "import numpy as np\n",
    "array1 = np.array([ 10 , 12 , 14 , 16 , 18 , 20 ])\n",
    "np.save(r\"C:\\Users\\DILANE KAMGA\\Documents\\Dilane Kamga\\COURSES\\DATA SCIENCE\\numpy\\Python_NumPy_for_Beginners_NumPy_Specialization_for_Data_Scineces Codes\\my_array\",array1)"
   ]
  },
  {
   "cell_type": "code",
   "execution_count": 49,
   "id": "964f518f",
   "metadata": {},
   "outputs": [],
   "source": [
    "import numpy as np\n",
    "array1 = np.array([ 10 , 12 , 14 , 16 , 18 , 20 ])\n",
    "np.savetxt(r\"C:\\Users\\DILANE KAMGA\\Documents\\Dilane Kamga\\COURSES\\DATA SCIENCE\\numpy\\Python_NumPy_for_Beginners_NumPy_Specialization_for_Data_Scineces Codes\\my_array.txt\",array1)"
   ]
  },
  {
   "cell_type": "markdown",
   "id": "982f8d23",
   "metadata": {},
   "source": [
    "### Loading a NumPy Array"
   ]
  },
  {
   "cell_type": "code",
   "execution_count": 42,
   "id": "3f04dc31",
   "metadata": {},
   "outputs": [
    {
     "name": "stdout",
     "output_type": "stream",
     "text": [
      "[10 12 14 16 18 20]\n"
     ]
    }
   ],
   "source": [
    "import numpy as np\n",
    "loaded_array = np.load(r\"C:\\Users\\DILANE KAMGA\\Documents\\Dilane Kamga\\COURSES\\DATA SCIENCE\\numpy\\Python_NumPy_for_Beginners_NumPy_Specialization_for_Data_Scineces Codes\\my_array.npy\")\n",
    "print (loaded_array)"
   ]
  },
  {
   "cell_type": "code",
   "execution_count": 50,
   "id": "f612074a",
   "metadata": {},
   "outputs": [
    {
     "name": "stdout",
     "output_type": "stream",
     "text": [
      "[10. 12. 14. 16. 18. 20.]\n"
     ]
    }
   ],
   "source": [
    "import numpy as np\n",
    "loaded_array = np.loadtxt(r\"C:\\Users\\DILANE KAMGA\\Documents\\Dilane Kamga\\COURSES\\DATA SCIENCE\\numpy\\Python_NumPy_for_Beginners_NumPy_Specialization_for_Data_Scineces Codes\\my_array.txt\")\n",
    "print (loaded_array)"
   ]
  },
  {
   "cell_type": "code",
   "execution_count": null,
   "id": "92d25d22",
   "metadata": {},
   "outputs": [],
   "source": []
  }
 ],
 "metadata": {
  "kernelspec": {
   "display_name": "Python 3",
   "language": "python",
   "name": "python3"
  },
  "language_info": {
   "codemirror_mode": {
    "name": "ipython",
    "version": 3
   },
   "file_extension": ".py",
   "mimetype": "text/x-python",
   "name": "python",
   "nbconvert_exporter": "python",
   "pygments_lexer": "ipython3",
   "version": "3.8.8"
  }
 },
 "nbformat": 4,
 "nbformat_minor": 5
}
