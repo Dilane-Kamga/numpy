{
 "cells": [
  {
   "cell_type": "markdown",
   "id": "79c213eb",
   "metadata": {},
   "source": [
    "## Statistical Operations with NumPy"
   ]
  },
  {
   "cell_type": "markdown",
   "id": "eea0344f",
   "metadata": {},
   "source": [
    "### Finding the Mean"
   ]
  },
  {
   "cell_type": "code",
   "execution_count": 1,
   "id": "54223d8e",
   "metadata": {},
   "outputs": [
    {
     "name": "stdout",
     "output_type": "stream",
     "text": [
      "[ 2  4  8 10 12]\n",
      "mean:\n",
      "7.2\n"
     ]
    }
   ],
   "source": [
    "import numpy as np\n",
    "my_array = np.array([ 2 , 4 , 8 , 10 , 12 ])\n",
    "print (my_array)\n",
    "print (\"mean:\")\n",
    "print (np.mean(my_array))"
   ]
  },
  {
   "cell_type": "code",
   "execution_count": 2,
   "id": "866c4014",
   "metadata": {},
   "outputs": [
    {
     "name": "stdout",
     "output_type": "stream",
     "text": [
      "[[ 8  9  7]\n",
      " [12 12 15]]\n",
      "mean:\n",
      "[ 8. 13.]\n",
      "[10.  10.5 11. ]\n"
     ]
    }
   ],
   "source": [
    "import numpy as np\n",
    "my_array = np.random.randint( 1 , 20 , size = ( 2 , 3 ))\n",
    "print (my_array)\n",
    "print (\"mean:\")\n",
    "print (np.mean(my_array, axis = 1 ))\n",
    "print (np.mean(my_array, axis = 0 ))"
   ]
  },
  {
   "cell_type": "markdown",
   "id": "e403f6ca",
   "metadata": {},
   "source": [
    "###  Finding the Median"
   ]
  },
  {
   "cell_type": "code",
   "execution_count": 3,
   "id": "7db22396",
   "metadata": {},
   "outputs": [
    {
     "name": "stdout",
     "output_type": "stream",
     "text": [
      "[ 2  4  8 10 12]\n",
      "median:\n",
      "8.0\n"
     ]
    }
   ],
   "source": [
    "import numpy as np\n",
    "my_array = np.array([ 2 , 4 , 8 , 10 , 12 ])\n",
    "print (my_array)\n",
    "print (\"median:\")\n",
    "print (np.median(my_array))"
   ]
  },
  {
   "cell_type": "code",
   "execution_count": 4,
   "id": "f8c5b713",
   "metadata": {},
   "outputs": [
    {
     "name": "stdout",
     "output_type": "stream",
     "text": [
      "[[10  1 19 18 10]\n",
      " [ 1 19  2  1 16]\n",
      " [19  9 12  9  2]]\n",
      "median:\n",
      "[10.  2.  9.]\n",
      "[10.  9. 12.  9. 10.]\n"
     ]
    }
   ],
   "source": [
    "import numpy as np\n",
    "my_array = np.random.randint( 1 , 20 , size = ( 3 , 5 ))\n",
    "print (my_array)\n",
    "print (\"median:\")\n",
    "print (np.median(my_array, axis = 1 ))\n",
    "print (np.median(my_array, axis = 0 ))"
   ]
  },
  {
   "cell_type": "markdown",
   "id": "af41e089",
   "metadata": {},
   "source": [
    "### Finding the Max and Min Values"
   ]
  },
  {
   "cell_type": "code",
   "execution_count": 5,
   "id": "6455b63e",
   "metadata": {},
   "outputs": [
    {
     "name": "stdout",
     "output_type": "stream",
     "text": [
      "[ 2  4  8 10 12]\n",
      "min value:\n",
      "2\n"
     ]
    }
   ],
   "source": [
    "import numpy as np\n",
    "my_array = np.array([ 2 , 4 , 8 , 10 , 12 ])\n",
    "print (my_array)\n",
    "print (\"min value:\")\n",
    "print (np.min(my_array))"
   ]
  },
  {
   "cell_type": "code",
   "execution_count": 6,
   "id": "18d15c09",
   "metadata": {},
   "outputs": [
    {
     "name": "stdout",
     "output_type": "stream",
     "text": [
      "[[ 9 12 15 11]\n",
      " [ 1  8 18  4]\n",
      " [ 1 13 19 19]]\n",
      "min:\n",
      "[9 1 1]\n",
      "[ 1  8 15  4]\n"
     ]
    }
   ],
   "source": [
    "import numpy as np\n",
    "my_array = np.random.randint( 1 , 20 , size = ( 3 , 4 ))\n",
    "print (my_array)\n",
    "print (\"min:\")\n",
    "print (np.amin(my_array, axis = 1 ))\n",
    "print (np.amin(my_array, axis = 0 ))"
   ]
  },
  {
   "cell_type": "code",
   "execution_count": 7,
   "id": "370e862c",
   "metadata": {},
   "outputs": [
    {
     "name": "stdout",
     "output_type": "stream",
     "text": [
      "[ 2  4  8 10 12]\n",
      "max value:\n",
      "12\n"
     ]
    }
   ],
   "source": [
    "import numpy as np\n",
    "my_array = np.array([ 2 , 4 , 8 , 10 , 12 ])\n",
    "print (my_array)\n",
    "print (\"max value:\")\n",
    "print (np.amax(my_array))"
   ]
  },
  {
   "cell_type": "code",
   "execution_count": 8,
   "id": "01d3b7c3",
   "metadata": {},
   "outputs": [
    {
     "name": "stdout",
     "output_type": "stream",
     "text": [
      "[[12  6 11  5]\n",
      " [11 13 16 18]\n",
      " [ 7 15  2  7]]\n",
      "max:\n",
      "[12 18 15]\n",
      "[12 15 16 18]\n"
     ]
    }
   ],
   "source": [
    "import numpy as np\n",
    "my_array = np.random.randint( 1 , 20 , size = ( 3 , 4 ))\n",
    "print (my_array)\n",
    "print (\"max:\")\n",
    "print (np.amax(my_array, axis = 1 ))\n",
    "print (np.amax(my_array, axis = 0 ))"
   ]
  },
  {
   "cell_type": "markdown",
   "id": "9cb96a9d",
   "metadata": {},
   "source": [
    "### Finding Standard Deviation"
   ]
  },
  {
   "cell_type": "code",
   "execution_count": 9,
   "id": "58e92bdb",
   "metadata": {},
   "outputs": [
    {
     "name": "stdout",
     "output_type": "stream",
     "text": [
      "[ 2  4  8 10 12]\n",
      "std value:\n",
      "3.7094473981982814\n"
     ]
    }
   ],
   "source": [
    "import numpy as np\n",
    "my_array = np.array([ 2 , 4 , 8 , 10 , 12 ])\n",
    "print (my_array)\n",
    "print (\"std value:\")\n",
    "print (np.std(my_array))"
   ]
  },
  {
   "cell_type": "code",
   "execution_count": 10,
   "id": "691d2bca",
   "metadata": {},
   "outputs": [
    {
     "name": "stdout",
     "output_type": "stream",
     "text": [
      "[[ 6 15 18  1]\n",
      " [ 7 12  2  3]\n",
      " [18  6 16  2]]\n",
      "std-dev:\n",
      "[6.81909085 3.93700394 6.68954408]\n",
      "[5.43650214 3.74165739 7.11805217 0.81649658]\n"
     ]
    }
   ],
   "source": [
    "import numpy as np\n",
    "my_array = np.random.randint( 1 , 20 , size = ( 3 , 4 ))\n",
    "print (my_array)\n",
    "print (\"std-dev:\")\n",
    "print (np.std(my_array, axis = 1 ))\n",
    "print (np.std(my_array, axis = 0 ))"
   ]
  },
  {
   "cell_type": "markdown",
   "id": "6299987a",
   "metadata": {},
   "source": [
    "### Finding Correlations"
   ]
  },
  {
   "cell_type": "code",
   "execution_count": 12,
   "id": "4c73a6f4",
   "metadata": {},
   "outputs": [
    {
     "name": "stdout",
     "output_type": "stream",
     "text": [
      "[1.  3.  0.  0.9 1.2]\n",
      "[-1.   0.5  0.2  0.6  5. ]\n",
      "correlation value:\n",
      "[7.04]\n"
     ]
    }
   ],
   "source": [
    "import numpy as np\n",
    "a1 = np.array([ 1 , 3 , 0 , 0.9 , 1.2 ])\n",
    "a2 = np.array([- 1 , 0.5 , 0.2 , 0.6 , 5 ])\n",
    "print (a1)\n",
    "print (a2)\n",
    "print (\"correlation value:\")\n",
    "print (np.correlate(a1, a2))"
   ]
  },
  {
   "cell_type": "markdown",
   "id": "7ba57a6f",
   "metadata": {},
   "source": [
    "## Getting Unique Items and Counts"
   ]
  },
  {
   "cell_type": "code",
   "execution_count": 13,
   "id": "d247eb08",
   "metadata": {},
   "outputs": [
    {
     "name": "stdout",
     "output_type": "stream",
     "text": [
      "[1 3 4 5 6 7 8 9]\n"
     ]
    }
   ],
   "source": [
    "import numpy as np\n",
    "my_array =np.array([ 5 , 8 , 7 , 5 , 9 , 3 , 7 , 7 , 1 , 1 , 8 , 4 , 6 , 9 , 7 , 3 ])\n",
    "unique_items = np.unique(my_array)\n",
    "print (unique_items)"
   ]
  },
  {
   "cell_type": "code",
   "execution_count": 14,
   "id": "0365cdab",
   "metadata": {},
   "outputs": [
    {
     "name": "stdout",
     "output_type": "stream",
     "text": [
      "[1 3 4 5 6 7 8 9]\n",
      "[2 2 1 2 1 4 2 2]\n"
     ]
    }
   ],
   "source": [
    "import numpy as np\n",
    "my_array =np.array([ 5 , 8 , 7 , 5 , 9 , 3 , 7 , 7 , 1 , 1 , 8 , 4 , 6 , 9 , 7 , 3 ])\n",
    "unique_items, counts = np.unique(my_array, return_counts=True)\n",
    "print (unique_items)\n",
    "print (counts)"
   ]
  },
  {
   "cell_type": "code",
   "execution_count": 15,
   "id": "3e47ce0f",
   "metadata": {},
   "outputs": [
    {
     "name": "stdout",
     "output_type": "stream",
     "text": [
      "[[1 3 4 5 6 7 8 9]\n",
      " [2 2 1 2 1 4 2 2]]\n"
     ]
    }
   ],
   "source": [
    "frequencies = np.asarray((unique_items, counts))\n",
    "print (frequencies)"
   ]
  },
  {
   "cell_type": "code",
   "execution_count": 16,
   "id": "c25a7e58",
   "metadata": {},
   "outputs": [
    {
     "name": "stdout",
     "output_type": "stream",
     "text": [
      "[[1 2]\n",
      " [3 2]\n",
      " [4 1]\n",
      " [5 2]\n",
      " [6 1]\n",
      " [7 4]\n",
      " [8 2]\n",
      " [9 2]]\n"
     ]
    }
   ],
   "source": [
    "frequencies = np.asarray((unique_items, counts)).T\n",
    "print (frequencies)"
   ]
  },
  {
   "cell_type": "markdown",
   "id": "b7a7928e",
   "metadata": {},
   "source": [
    "## Reversing a NumPy Array"
   ]
  },
  {
   "cell_type": "code",
   "execution_count": 17,
   "id": "d51a8fb2",
   "metadata": {},
   "outputs": [
    {
     "name": "stdout",
     "output_type": "stream",
     "text": [
      "original\n",
      "[ 7 14 15  6 14 14 10  7 19  5]\n",
      "reversed\n",
      "[ 5 19  7 10 14 14  6 15 14  7]\n"
     ]
    }
   ],
   "source": [
    "import numpy as np\n",
    "print (\"original\")\n",
    "my_array = np.random.randint( 1 , 20 , 10 )\n",
    "print (my_array)\n",
    "print (\"reversed\")\n",
    "reversed_array = np.flipud(my_array)\n",
    "print (reversed_array)"
   ]
  },
  {
   "cell_type": "code",
   "execution_count": 18,
   "id": "0b5ffe3e",
   "metadata": {},
   "outputs": [
    {
     "name": "stdout",
     "output_type": "stream",
     "text": [
      "original\n",
      "[[10  3 11  7]\n",
      " [ 3  8 11 16]\n",
      " [14 12 16 16]]\n",
      "reversed\n",
      "[[ 7 11  3 10]\n",
      " [16 11  8  3]\n",
      " [16 16 12 14]]\n"
     ]
    }
   ],
   "source": [
    "import numpy as np\n",
    "print (\"original\")\n",
    "my_array = np.random.randint( 1 , 20 , size = ( 3 , 4 ))\n",
    "print (my_array)\n",
    "print (\"reversed\")\n",
    "reversed_array = np.fliplr(my_array)\n",
    "print (reversed_array)"
   ]
  },
  {
   "cell_type": "markdown",
   "id": "10b979d2",
   "metadata": {},
   "source": [
    "##  Importing and Exporting CSV Files"
   ]
  },
  {
   "cell_type": "markdown",
   "id": "722cc780",
   "metadata": {},
   "source": [
    "### Saving a NumPy File as CSV"
   ]
  },
  {
   "cell_type": "code",
   "execution_count": 19,
   "id": "ff308c28",
   "metadata": {},
   "outputs": [
    {
     "name": "stdout",
     "output_type": "stream",
     "text": [
      "[[18 16  3 12]\n",
      " [19 14 14  4]\n",
      " [12 15  8 11]]\n"
     ]
    }
   ],
   "source": [
    "import numpy as np\n",
    "my_array = np.random.randint( 1 , 20 , size = ( 3 , 4 ))\n",
    "print (my_array)\n",
    "my_array.tofile(r'C:\\Users\\DILANE KAMGA\\Documents\\Dilane Kamga\\COURSES\\DATA SCIENCE\\numpy\\Python_NumPy_for_Beginners_NumPy_Specialization_for_Data_Scineces Codes\\my_array.csv', sep = ',')"
   ]
  },
  {
   "cell_type": "code",
   "execution_count": 20,
   "id": "25d7c719",
   "metadata": {},
   "outputs": [
    {
     "name": "stdout",
     "output_type": "stream",
     "text": [
      "[[15 16  3  9]\n",
      " [ 8 15 18  3]\n",
      " [ 6 17  5  9]]\n"
     ]
    }
   ],
   "source": [
    "import numpy as np\n",
    "my_array = np.random.randint( 1 , 20 , size = ( 3 , 4 ))\n",
    "print (my_array)\n",
    "np.savetxt(r'C:\\Users\\DILANE KAMGA\\Documents\\Dilane Kamga\\COURSES\\DATA SCIENCE\\numpy\\Python_NumPy_for_Beginners_NumPy_Specialization_for_Data_Scineces Codes\\my_array2.csv',my_array, delimiter = ',')"
   ]
  },
  {
   "cell_type": "markdown",
   "id": "c71d6053",
   "metadata": {},
   "source": [
    "### Loading CSV Files into NumPy Arrays"
   ]
  },
  {
   "cell_type": "code",
   "execution_count": 21,
   "id": "8326e311",
   "metadata": {},
   "outputs": [
    {
     "name": "stdout",
     "output_type": "stream",
     "text": [
      "[[15. 16.  3.  9.]\n",
      " [ 8. 15. 18.  3.]\n",
      " [ 6. 17.  5.  9.]]\n"
     ]
    }
   ],
   "source": [
    "import numpy as np\n",
    "loaded_array = np.genfromtxt(r'C:\\Users\\DILANE KAMGA\\Documents\\Dilane Kamga\\COURSES\\DATA SCIENCE\\numpy\\Python_NumPy_for_Beginners_NumPy_Specialization_for_Data_Scineces Codes\\my_array2.csv', delimiter=',')\n",
    "print (loaded_array)"
   ]
  },
  {
   "cell_type": "markdown",
   "id": "1d1bcc0c",
   "metadata": {},
   "source": [
    "## Plotting NumPy Arrays with Matplotlib"
   ]
  },
  {
   "cell_type": "code",
   "execution_count": 23,
   "id": "f055f381",
   "metadata": {},
   "outputs": [
    {
     "name": "stdout",
     "output_type": "stream",
     "text": [
      "[ 0.          1.05263158  2.10526316  3.15789474  4.21052632  5.26315789\n",
      "  6.31578947  7.36842105  8.42105263  9.47368421 10.52631579 11.57894737\n",
      " 12.63157895 13.68421053 14.73684211 15.78947368 16.84210526 17.89473684\n",
      " 18.94736842 20.        ]\n"
     ]
    },
    {
     "data": {
      "text/plain": [
       "[<matplotlib.lines.Line2D at 0x234de513a30>]"
      ]
     },
     "execution_count": 23,
     "metadata": {},
     "output_type": "execute_result"
    },
    {
     "data": {
      "image/png": "[encoded data removed]",
      "text/plain": [
       "<Figure size 432x288 with 1 Axes>"
      ]
     },
     "metadata": {
      "needs_background": "light"
     },
     "output_type": "display_data"
    }
   ],
   "source": [
    "import matplotlib.pyplot as plt\n",
    "import numpy as np\n",
    "import math\n",
    "x_vals = np.linspace( 0 , 20 , 20 )\n",
    "print (x_vals)\n",
    "y_vals = [math.sqrt(i) for i in x_vals]\n",
    "plt.plot(x_vals, y_vals)"
   ]
  },
  {
   "cell_type": "code",
   "execution_count": 25,
   "id": "d17dc736",
   "metadata": {},
   "outputs": [
    {
     "data": {
      "text/plain": [
       "<matplotlib.legend.Legend at 0x234e1669ca0>"
      ]
     },
     "execution_count": 25,
     "metadata": {},
     "output_type": "execute_result"
    },
    {
     "data": {
      "image/png": "[encoded data removed]",
      "text/plain": [
       "<Figure size 432x288 with 1 Axes>"
      ]
     },
     "metadata": {
      "needs_background": "light"
     },
     "output_type": "display_data"
    }
   ],
   "source": [
    "import matplotlib.pyplot as plt\n",
    "import numpy as np\n",
    "import math\n",
    "x_vals = np.linspace( 0 , 20 , 20 )\n",
    "y_vals = [math.sqrt(i) for i in x_vals]\n",
    "y2_vals = x_vals ** 3\n",
    "plt.xlabel('X Values')\n",
    "plt.ylabel('Y Values')\n",
    "plt.title('square Roots')\n",
    "plt.plot(x_vals, y_vals, 'r', label = 'square Root')\n",
    "plt.plot(x_vals, y2_vals, 'b', label = 'Cube')\n",
    "plt.legend(loc='upper center')"
   ]
  },
  {
   "cell_type": "code",
   "execution_count": 26,
   "id": "32cd65b3",
   "metadata": {},
   "outputs": [
    {
     "name": "stdout",
     "output_type": "stream",
     "text": [
      "[[ 6 14  2  5]\n",
      " [11 11 11 12]\n",
      " [ 2  6  9  9]\n",
      " [ 5 17  6 10]]\n"
     ]
    },
    {
     "data": {
      "image/png": "[encoded data removed]",
      "text/plain": [
       "<Figure size 432x288 with 1 Axes>"
      ]
     },
     "metadata": {
      "needs_background": "light"
     },
     "output_type": "display_data"
    }
   ],
   "source": [
    "import numpy as np\n",
    "import matplotlib.pyplot as plt\n",
    "my_array = np.random.randint( 1 , 20 , size = ( 4 , 4 ))\n",
    "print (my_array)\n",
    "plt.imshow(my_array)\n",
    "plt.show()"
   ]
  },
  {
   "cell_type": "code",
   "execution_count": null,
   "id": "ef9bbe09",
   "metadata": {},
   "outputs": [],
   "source": []
  }
 ],
 "metadata": {
  "kernelspec": {
   "display_name": "Python 3",
   "language": "python",
   "name": "python3"
  },
  "language_info": {
   "codemirror_mode": {
    "name": "ipython",
    "version": 3
   },
   "file_extension": ".py",
   "mimetype": "text/x-python",
   "name": "python",
   "nbconvert_exporter": "python",
   "pygments_lexer": "ipython3",
   "version": "3.8.8"
  }
 },
 "nbformat": 4,
 "nbformat_minor": 5
}
