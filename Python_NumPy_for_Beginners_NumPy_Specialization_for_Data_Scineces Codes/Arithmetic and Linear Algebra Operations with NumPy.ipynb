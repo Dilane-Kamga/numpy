{
 "cells": [
  {
   "cell_type": "markdown",
   "id": "7ebe5064",
   "metadata": {},
   "source": [
    "## Arithmetic Operations with NumPy"
   ]
  },
  {
   "cell_type": "markdown",
   "id": "cec6b2a5",
   "metadata": {},
   "source": [
    "### Finding Square Roots"
   ]
  },
  {
   "cell_type": "code",
   "execution_count": 1,
   "id": "c3fc7b7c",
   "metadata": {},
   "outputs": [
    {
     "name": "stdout",
     "output_type": "stream",
     "text": [
      "[3.16227766 4.47213595 5.47722558 6.32455532 7.07106781]\n"
     ]
    }
   ],
   "source": [
    "import numpy as np\n",
    "\n",
    "nums = [10, 20, 30, 40, 50]\n",
    "np_sqrt = np.sqrt(nums)\n",
    "print(np_sqrt)"
   ]
  },
  {
   "cell_type": "markdown",
   "id": "30d944a1",
   "metadata": {},
   "source": [
    "### Finding Logs"
   ]
  },
  {
   "cell_type": "code",
   "execution_count": 2,
   "id": "daeb6d07",
   "metadata": {},
   "outputs": [
    {
     "name": "stdout",
     "output_type": "stream",
     "text": [
      "[2.30258509 2.99573227 3.40119738 3.68887945 3.91202301]\n"
     ]
    }
   ],
   "source": [
    "import numpy as np\n",
    "\n",
    "nums = [ 10 , 20 , 30 , 40 , 50 ]\n",
    "np_log = np.log(nums)\n",
    "print (np_log)"
   ]
  },
  {
   "cell_type": "markdown",
   "id": "0122afee",
   "metadata": {},
   "source": [
    "### Finding Exponents"
   ]
  },
  {
   "cell_type": "code",
   "execution_count": 3,
   "id": "7d5120bd",
   "metadata": {},
   "outputs": [
    {
     "name": "stdout",
     "output_type": "stream",
     "text": [
      "[2.20264658e+04 4.85165195e+08 1.06864746e+13 2.35385267e+17\n",
      " 5.18470553e+21]\n"
     ]
    }
   ],
   "source": [
    "import numpy as np\n",
    "\n",
    "nums = [ 10 , 20 , 30 , 40 , 50 ]\n",
    "np_exp = np.exp(nums)\n",
    "print (np_exp)"
   ]
  },
  {
   "cell_type": "markdown",
   "id": "c9b49c74",
   "metadata": {},
   "source": [
    "### Finding Sine and Cosine"
   ]
  },
  {
   "cell_type": "code",
   "execution_count": 4,
   "id": "052231ca",
   "metadata": {},
   "outputs": [
    {
     "name": "stdout",
     "output_type": "stream",
     "text": [
      "[-0.54402111  0.91294525 -0.98803162  0.74511316 -0.26237485]\n",
      "[-0.83907153  0.40808206  0.15425145 -0.66693806  0.96496603]\n"
     ]
    }
   ],
   "source": [
    "import numpy as np\n",
    "\n",
    "nums = [ 10 , 20 , 30 , 40 , 50 ]\n",
    "np_sine = np.sin(nums)\n",
    "print (np_sine)\n",
    "\n",
    "np_cos = np.cos(nums)\n",
    "print (np_cos)"
   ]
  },
  {
   "cell_type": "markdown",
   "id": "5d06f314",
   "metadata": {},
   "source": [
    "## NumPy for Linear Algebra Operations"
   ]
  },
  {
   "cell_type": "markdown",
   "id": "a98925f4",
   "metadata": {},
   "source": [
    "### Finding the Matrix Dot Product"
   ]
  },
  {
   "cell_type": "code",
   "execution_count": 5,
   "id": "37c85df9",
   "metadata": {},
   "outputs": [
    {
     "name": "stdout",
     "output_type": "stream",
     "text": [
      "[[-0.19956475  1.01091704  0.65855907  0.50025365]\n",
      " [ 2.16339152  0.25911384  0.89935553 -0.11963211]\n",
      " [ 1.60300225 -2.17784408 -2.62573155 -0.90811182]\n",
      " [-1.23556254  2.21309902  0.16409055  0.92335065]]\n"
     ]
    }
   ],
   "source": [
    "import numpy as np\n",
    "\n",
    "A = np.random.randn( 4 , 5 )\n",
    "B = np.random.randn( 5 , 4 )\n",
    "\n",
    "Z = np.dot(A,B)\n",
    "print (Z)"
   ]
  },
  {
   "cell_type": "markdown",
   "id": "ca00e6a8",
   "metadata": {},
   "source": [
    "### Element-wise Matrix Multiplication"
   ]
  },
  {
   "cell_type": "code",
   "execution_count": 6,
   "id": "d07dcf31",
   "metadata": {},
   "outputs": [
    {
     "name": "stdout",
     "output_type": "stream",
     "text": [
      "[[ 100  144  169]\n",
      " [2025 1024  256]\n",
      " [2025 1024  256]]\n"
     ]
    }
   ],
   "source": [
    "import numpy as np\n",
    "\n",
    "row1 = [ 10 , 12 , 13 ]\n",
    "row2 = [ 45 , 32 , 16 ]\n",
    "row3 = [ 45 , 32 , 16 ]\n",
    "\n",
    "nums_2d = np.array([row1, row2, row3])\n",
    "multiply = np.multiply(nums_2d, nums_2d)\n",
    "print (multiply)"
   ]
  },
  {
   "cell_type": "markdown",
   "id": "d3c4ba07",
   "metadata": {},
   "source": [
    "### Finding the Matrix Inverse"
   ]
  },
  {
   "cell_type": "code",
   "execution_count": 7,
   "id": "e7561750",
   "metadata": {},
   "outputs": [
    {
     "name": "stdout",
     "output_type": "stream",
     "text": [
      "[[ 0.70588235 -1.          0.58823529]\n",
      " [ 1.29411765 -1.          0.41176471]\n",
      " [-0.76470588  1.         -0.47058824]]\n"
     ]
    }
   ],
   "source": [
    "import numpy as np\n",
    "\n",
    "row1 = [ 1 , 2 , 3 ]\n",
    "row2 = [ 5 , 2 , 8 ]\n",
    "row3 = [ 9 , 1 , 10 ]\n",
    "\n",
    "nums_2d = np.array([row1, row2, row3])\n",
    "inverse = np.linalg.inv(nums_2d)\n",
    "print (inverse)"
   ]
  },
  {
   "cell_type": "markdown",
   "id": "d2596da5",
   "metadata": {},
   "source": [
    "### Finding the Matrix Determinant"
   ]
  },
  {
   "cell_type": "code",
   "execution_count": 8,
   "id": "ee43a9bd",
   "metadata": {},
   "outputs": [
    {
     "name": "stdout",
     "output_type": "stream",
     "text": [
      "17.0\n"
     ]
    }
   ],
   "source": [
    "import numpy as np\n",
    "\n",
    "row1 = [ 1 , 2 , 3 ]\n",
    "row2 = [ 5 , 2 , 8 ]\n",
    "row3 = [ 9 , 1 , 10 ]\n",
    "\n",
    "nums_2d = np.array([row1, row2, row3])\n",
    "determinant = np.linalg.det(nums_2d)\n",
    "print (determinant)"
   ]
  },
  {
   "cell_type": "markdown",
   "id": "a33e8792",
   "metadata": {},
   "source": [
    "### Finding the Matrix Trace"
   ]
  },
  {
   "cell_type": "code",
   "execution_count": 9,
   "id": "39ab1d40",
   "metadata": {},
   "outputs": [
    {
     "name": "stdout",
     "output_type": "stream",
     "text": [
      "15\n"
     ]
    }
   ],
   "source": [
    "import numpy as np\n",
    "\n",
    "row1 = [ 1 , 2 , 3 ]\n",
    "row2 = [ 4 , 5 , 6 ]\n",
    "row3 = [ 7 , 8 , 9 ]\n",
    "\n",
    "nums_2d = np.array([row1, row2, row3])\n",
    "trace = np.trace(nums_2d)\n",
    "print (trace)"
   ]
  },
  {
   "cell_type": "markdown",
   "id": "57f36da5",
   "metadata": {},
   "source": [
    "### Solving a System of Linear Equations with Python"
   ]
  },
  {
   "cell_type": "code",
   "execution_count": 10,
   "id": "0ca6e819",
   "metadata": {},
   "outputs": [],
   "source": [
    "import numpy as np\n",
    "\n",
    "A = np.array([[ 6 , 3 ], [ 2 , 4 ]])\n",
    "B = np.array([ 42 , 32 ])"
   ]
  },
  {
   "cell_type": "code",
   "execution_count": 11,
   "id": "44f2415d",
   "metadata": {},
   "outputs": [
    {
     "name": "stdout",
     "output_type": "stream",
     "text": [
      "[[ 0.22222222 -0.16666667]\n",
      " [-0.11111111  0.33333333]]\n"
     ]
    }
   ],
   "source": [
    "A_inv = np.linalg.inv(A)\n",
    "print (A_inv)"
   ]
  },
  {
   "cell_type": "code",
   "execution_count": 12,
   "id": "8bbc9380",
   "metadata": {},
   "outputs": [
    {
     "name": "stdout",
     "output_type": "stream",
     "text": [
      "[4. 6.]\n"
     ]
    }
   ],
   "source": [
    "X = np.dot(A_inv, B)\n",
    "print (X)"
   ]
  },
  {
   "cell_type": "code",
   "execution_count": null,
   "id": "2a1ed32a",
   "metadata": {},
   "outputs": [],
   "source": []
  }
 ],
 "metadata": {
  "kernelspec": {
   "display_name": "Python 3",
   "language": "python",
   "name": "python3"
  },
  "language_info": {
   "codemirror_mode": {
    "name": "ipython",
    "version": 3
   },
   "file_extension": ".py",
   "mimetype": "text/x-python",
   "name": "python",
   "nbconvert_exporter": "python",
   "pygments_lexer": "ipython3",
   "version": "3.8.8"
  }
 },
 "nbformat": 4,
 "nbformat_minor": 5
}
